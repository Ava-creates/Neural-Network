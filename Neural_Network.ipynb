{
  "cells": [
    {
      "cell_type": "markdown",
      "metadata": {
        "id": "view-in-github",
        "colab_type": "text"
      },
      "source": [
        "<a href=\"https://colab.research.google.com/github/Ava-creates/Neural-Network/blob/main/Neural_Network.ipynb\" target=\"_parent\"><img src=\"https://colab.research.google.com/assets/colab-badge.svg\" alt=\"Open In Colab\"/></a>"
      ]
    },
    {
      "cell_type": "markdown",
      "metadata": {
        "id": "CwrKOE17DCY4"
      },
      "source": [
        "# Mini Project 5 - Neural Network\n"
      ]
    },
    {
      "cell_type": "markdown",
      "metadata": {
        "id": "GhmJSd4ZDCY5"
      },
      "source": [
        "## Import libraries\n",
        "\n",
        "We will be using the lower resolution MINST data set"
      ]
    },
    {
      "cell_type": "code",
      "execution_count": null,
      "metadata": {
        "id": "eb1qvsdVDCY6"
      },
      "outputs": [],
      "source": [
        "from sklearn.datasets import load_digits # The MNIST data set is in scikit learn data set\n",
        "from sklearn.preprocessing import StandardScaler  # It is important in neural networks to scale the date\n",
        "from sklearn.model_selection import train_test_split  # The standard - train/test to prevent overfitting and choose hyperparameters\n",
        "from sklearn.metrics import accuracy_score # \n",
        "import numpy as np\n",
        "import numpy.random as r # We will randomly initialize our weights\n",
        "import matplotlib.pyplot as plt "
      ]
    },
    {
      "cell_type": "markdown",
      "metadata": {
        "id": "0CJ8MWfWDCY8"
      },
      "source": [
        "## Looking at the data\n",
        "\n",
        "After we load the data, we print the shape of the data and a pixelated digit.\n",
        "\n",
        "We also show what the features of one example looks like.\n",
        "\n",
        "The neural net will learn to estimate which digit these pixels represent."
      ]
    },
    {
      "cell_type": "code",
      "execution_count": null,
      "metadata": {
        "colab": {
          "base_uri": "https://localhost:8080/",
          "height": 418
        },
        "id": "nAM0ROhsDCY8",
        "outputId": "571ce317-3cea-4b92-bec6-31d6838742fb"
      },
      "outputs": [
        {
          "output_type": "stream",
          "name": "stdout",
          "text": [
            "The shape of the digits dataset:\n",
            "(1797, 64)\n",
            "[0 1 2 ... 8 9 8]\n",
            "[ 0.  0.  5. 13.  9.  1.  0.  0.  0.  0. 13. 15. 10. 15.  5.  0.  0.  3.\n",
            " 15.  2.  0. 11.  8.  0.  0.  4. 12.  0.  0.  8.  8.  0.  0.  5.  8.  0.\n",
            "  0.  9.  8.  0.  0.  4. 11.  0.  1. 12.  7.  0.  0.  2. 14.  5. 10. 12.\n",
            "  0.  0.  0.  0.  6. 13. 10.  0.  0.  0.]\n"
          ]
        },
        {
          "output_type": "display_data",
          "data": {
            "text/plain": [
              "<Figure size 432x288 with 0 Axes>"
            ]
          },
          "metadata": {}
        },
        {
          "output_type": "display_data",
          "data": {
            "text/plain": [
              "<Figure size 288x288 with 1 Axes>"
            ],
            "image/png": "[encoded data removed]"
          },
          "metadata": {
            "needs_background": "light"
          }
        }
      ],
      "source": [
        "# load all the digits (img)\n",
        "digits= load_digits()\n",
        "# load the data from the digit (img)\n",
        "\n",
        "print(\"The shape of the digits dataset:\") \n",
        "print(digits.data.shape)\n",
        "# plot the digits\n",
        "# using .gray()\n",
        "\n",
        "plt.gray()\n",
        "plt.matshow(digits.images[0])\n",
        "# and .matshow() with argument digit.images[xx]\n",
        "\n",
        "# plt.show()\n",
        "\n",
        "# get the gt for this digit img\n",
        "X=digits.data\n",
        "y=digits.target\n",
        "print(y[:])\n",
        "print(X[0,:])"
      ]
    },
    {
      "cell_type": "markdown",
      "metadata": {
        "id": "xVKF9kfmDCY8"
      },
      "source": [
        "## 1) Scale the dataset\n",
        "The training features range from 0 to 15.  To help the algorithm converge, we will scale the data to have a mean of 0 and unit variance"
      ]
    },
    {
      "cell_type": "code",
      "execution_count": null,
      "metadata": {
        "id": "25xIYDuyDCY9"
      },
      "outputs": [],
      "source": [
        "# use the stander lib to scale the data\n",
        "# init the scaler \n",
        "\n",
        "# fit the data to the scaler \n",
        "\n",
        "from sklearn import preprocessing \n",
        "scaler = preprocessing.StandardScaler().fit(X)\n",
        "\n",
        "X = scaler.transform(X)\n",
        "\n",
        "# Looking the new features after scaling\n"
      ]
    },
    {
      "cell_type": "markdown",
      "metadata": {
        "id": "7Q104f99DCY9"
      },
      "source": [
        "## 2) Creating training and test datasets\n",
        "We split the data into training and test data sets. We will train the neural network with the training dataset, and evaluate our neural network with the test dataset "
      ]
    },
    {
      "cell_type": "code",
      "execution_count": null,
      "metadata": {
        "id": "PV40O-zoDCY9",
        "colab": {
          "base_uri": "https://localhost:8080/"
        },
        "outputId": "7402b63d-8eaa-4951-a587-88b41175330e"
      },
      "outputs": [
        {
          "output_type": "stream",
          "name": "stdout",
          "text": [
            "[ 0.         -0.33501649 -0.25345218  0.27407152  0.7353655   0.03850794\n",
            " -0.40972392 -0.12502292 -0.05907756 -0.62400926  0.8519818  -0.24630352\n",
            " -1.73159361  0.96246672  0.04283835 -0.13043338 -0.04462507  0.11144272\n",
            "  0.72010829 -1.03304899 -1.14964846  0.67687682  0.678579   -0.11422184\n",
            " -0.03337973  0.80438791  0.46988512 -1.49990136 -1.61406277  0.24672879\n",
            "  0.72779788 -0.04723238  0.          0.76465553 -0.42183359 -1.44763006\n",
            " -1.73666443  0.554775   -0.25713138  0.         -0.06134367  0.8105536\n",
            "  0.32412592 -1.12245711 -0.90643023  0.83659002 -0.33635139 -0.08874162\n",
            " -0.03543326 -0.40357499  0.97343907 -1.44277905  0.86476513 -0.29164829\n",
            " -0.75743581 -0.20978513 -0.02359646 -0.29908135 -0.10929827  0.89424571\n",
            " -0.9749729  -1.14664746 -0.5056698  -0.19600752]\n",
            "(1078, 64)\n"
          ]
        }
      ],
      "source": [
        "#Split the data into training and test set.  60% training and %40 test\n",
        "from sklearn.model_selection import train_test_split\n",
        "\n",
        "X_train, X_test, y_train, y_test = train_test_split(X, y,train_size=.6,test_size=0.4)\n",
        "\n",
        "print(X_train[1, :])\n",
        "print(X_train.shape)"
      ]
    },
    {
      "cell_type": "markdown",
      "metadata": {
        "id": "Q1W6bxcXDCY-"
      },
      "source": [
        "## 3) Setting up the output layer"
      ]
    },
    {
      "cell_type": "markdown",
      "metadata": {
        "id": "GZ72zRVjDCY-"
      },
      "source": [
        "### One hot encoding"
      ]
    },
    {
      "cell_type": "code",
      "execution_count": null,
      "metadata": {
        "id": "yzolRWLWDCY-"
      },
      "outputs": [],
      "source": [
        "def convert_y_to_vect(y):\n",
        "#     Our target is an integer in the range [0,..,9], so we will have 10 output neuron's in our network.  \n",
        "      y_v=[0,0,0,0,0,0,0,0,0,0]\n",
        "\n",
        "      for i in range(0,10):\n",
        "        if(y==i):\n",
        "          y_v[i]=1\n",
        "          \n",
        "          \n",
        "          break\n",
        "      \n",
        "      return y_v\n",
        "\n",
        "        \n",
        "\n",
        "#     If  y=0 we want the output neurons to have the values (1,0,0,0,0,0,0,0,0,0)\n",
        "#     If  y=1 we want the output neurons to have the values (0,1,0,0,0,0,0,0,0,0)\n",
        "#     etc\n",
        "\n",
        "#     Thus we need to change our target so it is the same as our hoped for output of the neural network. \n",
        "\n",
        "#     If y=0$we change it into the vector (1,0,0,0,0,0,0,0,0,0)\n",
        "#     If y=1 we change it into the vector (0,1,0,0,0,0,0,0,0,0)\n",
        "#     etc\n",
        "\n",
        "#     The code to covert the target vector.\n",
        "\n",
        " "
      ]
    },
    {
      "cell_type": "markdown",
      "metadata": {
        "id": "X8TphRqxDCY-"
      },
      "source": [
        "Converting the training and test targets to vectors "
      ]
    },
    {
      "cell_type": "code",
      "execution_count": null,
      "metadata": {
        "colab": {
          "base_uri": "https://localhost:8080/"
        },
        "id": "D7xDSlS5DCY_",
        "outputId": "fade2373-b846-4a63-875a-5fc2e97ff3de"
      },
      "outputs": [
        {
          "output_type": "stream",
          "name": "stdout",
          "text": [
            "[[0 0 0 ... 0 0 0]\n",
            " [1 0 0 ... 0 0 0]\n",
            " [0 0 0 ... 0 0 0]\n",
            " ...\n",
            " [0 0 0 ... 0 0 0]\n",
            " [0 0 1 ... 0 0 0]\n",
            " [0 1 0 ... 0 0 0]]\n",
            "(1078,)\n"
          ]
        }
      ],
      "source": [
        "# convert digits to vectors using the func above\n",
        "\n",
        "# appky this to both train and test splits\n",
        "\n",
        "y_v_train=[]\n",
        "for i in range(0, len(y_train)):\n",
        "  y_v_train.append(convert_y_to_vect(y_train[i]))\n",
        "\n",
        "\n",
        "y_v_train=np.array(y_v_train)\n",
        "print(y_v_train)\n",
        "\n",
        "\n",
        "y_v_test=[]\n",
        "for i in range(0, len(y_test)):\n",
        "  y_v_test.append(convert_y_to_vect(y_test[i]))\n",
        "\n",
        "print(y_train.shape)\n"
      ]
    },
    {
      "cell_type": "markdown",
      "metadata": {
        "id": "4vK0UpooDCY_"
      },
      "source": [
        "A quick check to see that our code performs as we expect "
      ]
    },
    {
      "cell_type": "code",
      "execution_count": null,
      "metadata": {
        "id": "m7BiGdGiDCY_",
        "outputId": "e87d72e1-813c-4565-f8d9-43b0121f7f6f",
        "colab": {
          "base_uri": "https://localhost:8080/"
        }
      },
      "outputs": [
        {
          "output_type": "stream",
          "name": "stdout",
          "text": [
            "[4 0 5 5]\n",
            "[[0 0 0 0 1 0 0 0 0 0]\n",
            " [1 0 0 0 0 0 0 0 0 0]\n",
            " [0 0 0 0 0 1 0 0 0 0]\n",
            " [0 0 0 0 0 1 0 0 0 0]]\n"
          ]
        }
      ],
      "source": [
        "print(y_train[0:4])\n",
        "print(y_v_train[0:4])"
      ]
    },
    {
      "cell_type": "markdown",
      "metadata": {
        "id": "6-5m58ESDCY_"
      },
      "source": [
        "## 4) Creating the neural network"
      ]
    },
    {
      "cell_type": "markdown",
      "metadata": {
        "id": "QCXgqK-NDCY_"
      },
      "source": [
        "### The activation function and its derivative"
      ]
    },
    {
      "cell_type": "code",
      "execution_count": null,
      "metadata": {
        "id": "P6cplG67DCY_"
      },
      "outputs": [],
      "source": [
        "# We will use the sigmoid activation function:  f(z)={1}/{1+e^{-z}}\n",
        "def f(z):\n",
        "  l=np.exp((-z))\n",
        "\n",
        "  return 1/(1+l)\n",
        "\n",
        "   \n",
        "\n",
        "# The deriviative of the sigmoid function is: $f'(z) = f(z)(1-f(z))$ \n",
        "def f_deriv(z):\n",
        "  l=f(z)*(1-f(z))\n",
        "  return l"
      ]
    },
    {
      "cell_type": "markdown",
      "metadata": {
        "id": "GbXAOSLWDCY_"
      },
      "source": [
        "### Creating and initialing W and b\n"
      ]
    },
    {
      "cell_type": "code",
      "execution_count": null,
      "metadata": {
        "id": "-CO2IgdLDCZA"
      },
      "outputs": [],
      "source": [
        "def setup_and_init_weights(nn_structure,X):\n",
        "    # The weights in W are different so that during back propagation the nodes on a level will have different gradients and thus have different update values.\n",
        "    #creating a dictionary for wiehgts i.e. a set of key: value pairs\n",
        "\n",
        "    #creating a dictionary for bias i.e. a set of key: value pairs\n",
        "    W={}\n",
        "    b={}\n",
        "    \n",
        "\n",
        "    for i in range(1, len(nn_structure)):\n",
        "        # We want the weights to be small values, since the sigmoid is almost \"flat\" for large inputs.\n",
        "        # Next is the code that assigns each weight a number uniformly drawn from $[0.0, 1.0)$.  \n",
        "        W[\"W\"+str(i)]=np.random.random_sample((nn_structure[i],nn_structure[i-1]))\n",
        "        b[\"b\"+str(i)]=np.random.random_sample((nn_structure[i], 1))\n",
        "        # The code assumes that the number of neurons in each level is in the python list *nn_structure*.\n",
        "        # .random_sample return “continuous uniform” random floats in the half-open interval [0.0, 1.0). \n",
        "\n",
        "        \n",
        "    # Return weight and b\n",
        "    return W, b"
      ]
    },
    {
      "cell_type": "markdown",
      "metadata": {
        "id": "FqxGi3k1DCZF"
      },
      "source": [
        "### Initializing $\\triangledown W$ and $\\triangledown b$\n"
      ]
    },
    {
      "cell_type": "code",
      "execution_count": null,
      "metadata": {
        "id": "F-Z7_XhQDCZF"
      },
      "outputs": [],
      "source": [
        "def init_tri_values(nn_structure,X):\n",
        "    # Creating dlt_W and dlt_b to have the same size as W and b,and init the dlt_W, and dlt_b to 0\n",
        "    dlt_W={}\n",
        "    dlt_b={}\n",
        "    \n",
        "\n",
        "    \n",
        "    for i in range(1, len(nn_structure)):\n",
        "        dlt_W[\"W\"+str(i)]=np.zeros((nn_structure[i],nn_structure[i-1]))\n",
        "        dlt_b[\"b\"+str(i)]=np.zeros((nn_structure[i], 1))\n",
        "       \n",
        "\n",
        "    #print(\"shape when initialising delta_w0\") \n",
        "   # print(dlt_W[\"W0\"].shape)\n",
        "    return dlt_W,dlt_b"
      ]
    },
    {
      "cell_type": "markdown",
      "metadata": {
        "id": "XgkHSCMkDCZF"
      },
      "source": [
        "## Feed forward\n",
        "Perform a forward pass throught the network.  The function returns the values of $a$ and $z$"
      ]
    },
    {
      "cell_type": "code",
      "execution_count": null,
      "metadata": {
        "id": "kLzZQLkkDCZF"
      },
      "outputs": [],
      "source": [
        "def feed_forward(X, W, b):\n",
        "    # create a dictionary for holding the a values for all levels\n",
        "      a={}\n",
        "    # create a dictionary for holding the z values for all the layers\n",
        "      z={}\n",
        "      \n",
        "      X=X.reshape((64,1))\n",
        "     \n",
        "      for i in range(1, len(W)+1):\n",
        "\n",
        "        if(i==1):\n",
        "          a[\"a1\"]=f(X)\n",
        "        z[\"z\"+str(i+1)]=W[\"W\"+str(i)]@(a[\"a\"+str(i)]) + b[\"b\"+str(i)]\n",
        "        \n",
        "        # z^(l+1) = W^(l)*a^(l) + b^(l)\n",
        "        a[\"a\"+str(i+1)]=f(z[\"z\"+str(i+1)])\n",
        "        # a^(l+1) = f(z^(l+1))\n",
        "\n",
        "      #print(a)\n",
        "\n",
        "        \n",
        "      return a,z"
      ]
    },
    {
      "cell_type": "markdown",
      "metadata": {
        "id": "PxJa1Is_DCZF"
      },
      "source": [
        "## Compute $\\delta$\n",
        "compute $\\delta^{(s_l)}$ in a function called \"calculate_out_layer_delta\",  and  computes $\\delta^{(\\ell)}$ for the hidden layers in the function called \"calculate_hidden_delta\".  \n",
        "\n"
      ]
    },
    {
      "cell_type": "code",
      "execution_count": null,
      "metadata": {
        "id": "-GMk_zedDCZF"
      },
      "outputs": [],
      "source": [
        "def calculate_out_layer_delta(y, a_out, z_out):\n",
        "    # delta^(nl) = -(y_i - a_i^(nl)) * f'(z_i^(nl))\n",
        "    \n",
        "    a_out=a_out.reshape(10,1)\n",
        "    z_out=z_out.reshape(10,1)\n",
        "    y=y.reshape(10,1)\n",
        "    delta_nl=-(y-a_out)*f_deriv(z_out)\n",
        "    \n",
        "    return delta_nl\n",
        "\n",
        "\n",
        "def calculate_hidden_delta(delta_plus_1, w_l, z_l):\n",
        "  \n",
        "\n",
        "    d=(w_l.T@delta_plus_1)*f_deriv(z_l)\n",
        "\n",
        "    return d"
      ]
    },
    {
      "cell_type": "markdown",
      "metadata": {
        "id": "PRf9HuvrDCZF"
      },
      "source": [
        "## The Back Propagation Algorithm\n"
      ]
    },
    {
      "cell_type": "code",
      "execution_count": null,
      "metadata": {
        "id": "EqUmhX_bDCZF"
      },
      "outputs": [],
      "source": [
        "def train_nn(nn_structure, X, y, iter_num=3000, alpha=0.25):\n",
        "    # init W and b\n",
        "    W, b= setup_and_init_weights(nn_structure,X)\n",
        "    n=X.shape[0]\n",
        "    # init counter to 0\n",
        "    counter=0\n",
        "    # store the length of data\n",
        "    \n",
        "    # init a list to store the all costs\n",
        "    cost=[]\n",
        "    \n",
        "    print('Starting gradient descent for {} iterations'.format(iter_num))\n",
        "    # while the counter is less than the max iterations:\n",
        "    while(counter<iter_num):\n",
        "    \n",
        "\n",
        "        del_W, del_b=init_tri_values(nn_structure,X)\n",
        "       \n",
        "        c=0\n",
        "        if(counter%100==0):\n",
        "          print(counter)\n",
        "        \n",
        "      \n",
        "        for i in range(len(y)):\n",
        "            a,z=feed_forward(X[i,:],W,b)\n",
        "            delta={}\n",
        "           \n",
        "            # loop from nl-1 to 1 backpropagating the errors \n",
        "            for l in range(len(nn_structure),0, -1):\n",
        "                if l == 3:\n",
        "                  #calculate delta out\n",
        "                  delta[\"d3\"]=calculate_out_layer_delta(y[i, :], a[\"a3\"], z[\"z3\"])\n",
        "\n",
        "                  #calculate the cost\n",
        "                  c+=( np.linalg.norm(y[i]-a[\"a3\"]))                   \n",
        "                # first layer\n",
        "                elif l==1: \n",
        "                   # delt_W^(l) = delt_W^(l) + delta^(l+1) * transpose(a^(l)) \n",
        "                   del_W[\"W1\"]+=delta[\"d2\"]*(a[\"a1\"].T)\n",
        "              \n",
        "                  # delt_b^(l) = delt_b^(l) + delta^(l+1)\n",
        "                   del_b[\"b1\"]+=delta[\"d2\"]\n",
        "\n",
        "                else:\n",
        "                \n",
        "                  delta[\"d2\"]=calculate_hidden_delta(delta[\"d3\"], W[\"W2\"], z[\"z2\"])\n",
        "\n",
        "                  d=delta[\"d3\"]\n",
        "\n",
        "                  ai=(a[\"a2\"])\n",
        "                  del_W[\"W2\"]+= (d* ai.T)\n",
        "             \n",
        "                  del_b[\"b2\"]+= d\n",
        "\n",
        "        for l in range(len(nn_structure) - 1, 0, -1):\n",
        "          W[\"W\"+str(l)] = W[\"W\"+str(l)]-(1/n)*alpha*del_W[\"W\"+str(l)]\n",
        "          b[\"b\"+str(l)] = b[\"b\"+str(l)]-(1/n)*alpha*del_b[\"b\"+str(l)]\n",
        "\n",
        "        # complete the average cost calculation\n",
        "          \n",
        "        c=(1/n)*c\n",
        "        cost.append(c)\n",
        "        counter+=1\n",
        "        \n",
        "    return  W,b, cost"
      ]
    },
    {
      "cell_type": "code",
      "execution_count": null,
      "metadata": {
        "id": "lQHZNf7qDCZG"
      },
      "outputs": [],
      "source": [
        "def predict_y(W, b, X, n_layers):\n",
        "    # store the length of data\n",
        "    \n",
        "    # init for prediction arra\n",
        "    predict=[]\n",
        "\n",
        "    for i in range(0, X.shape[0]):\n",
        "      a,z=feed_forward(X[i,:],W,b)\n",
        "      \n",
        "      predict.append(np.argmax(a[\"a3\"]))\n",
        "    \n",
        "    \n",
        "        \n",
        "    return predict"
      ]
    },
    {
      "cell_type": "markdown",
      "metadata": {
        "id": "tDnz42ANDCZG"
      },
      "source": [
        "## Running the neural network\n",
        "\n",
        "Our code assumes the size of each layer in our network is held in a list.  The input layer will have 64 neurons (one for each pixel in our 8 by 8 pixelated digit).  Our hidden layer has 30 neurons (you can change this value).  The output layer has 10 neurons.\n",
        "\n",
        "Next we create the python list to hold the number of neurons for each level and then run the neural network code with our training data.\n",
        "\n",
        "This code will take some time..."
      ]
    },
    {
      "cell_type": "code",
      "execution_count": null,
      "metadata": {
        "id": "50008Gz6DCZG",
        "colab": {
          "base_uri": "https://localhost:8080/"
        },
        "outputId": "523fdbe2-1432-42de-ad8e-dcc021230577"
      },
      "outputs": [
        {
          "output_type": "stream",
          "name": "stdout",
          "text": [
            "Starting gradient descent for 50 iterations\n",
            "0\n",
            "[7, 7, 7, 7, 7, 7, 7, 7, 7, 7, 7, 7, 7, 7, 7, 7, 7, 7, 7, 7, 7, 7, 7, 7, 7, 7, 7, 7, 7, 7, 7, 7, 7, 7, 7, 7, 7, 7, 7, 7, 7, 7, 7, 7, 7, 7, 7, 7, 7, 7, 7, 7, 7, 7, 7, 7, 7, 7, 7, 7, 7, 7, 7, 7, 7, 7, 7, 7, 7, 7, 7, 7, 7, 7, 7, 7, 7, 7, 7, 7, 7, 7, 7, 7, 7, 7, 7, 7, 7, 7, 7, 7, 7, 7, 7, 7, 7, 7, 7, 7, 7, 7, 7, 7, 7, 7, 7, 7, 7, 7, 7, 7, 7, 7, 7, 7, 7, 7, 7, 7, 7, 7, 7, 7, 7, 7, 7, 7, 7, 7, 7, 7, 7, 7, 7, 7, 7, 7, 7, 7, 7, 7, 7, 7, 7, 7, 7, 7, 7, 7, 7, 7, 7, 7, 7, 7, 7, 7, 7, 7, 7, 7, 7, 7, 7, 7, 7, 7, 7, 7, 7, 7, 7, 7, 7, 7, 7, 7, 7, 7, 7, 7, 7, 7, 7, 7, 7, 7, 7, 7, 7, 7, 7, 7, 7, 7, 7, 7, 7, 7, 7, 7, 7, 7, 7, 7, 7, 7, 7, 7, 7, 7, 7, 7, 7, 7, 7, 7, 7, 7, 7, 7, 7, 7, 7, 7, 7, 7, 7, 7, 7, 7, 7, 7, 7, 7, 7, 7, 7, 7, 7, 7, 7, 7, 7, 7, 7, 7, 7, 7, 7, 7, 7, 7, 7, 7, 7, 7, 7, 7, 7, 7, 7, 7, 7, 7, 7, 7, 7, 7, 7, 7, 7, 7, 7, 7, 7, 7, 7, 7, 7, 7, 7, 7, 7, 7, 7, 7, 7, 7, 7, 7, 7, 7, 7, 7, 7, 7, 7, 7, 7, 7, 7, 7, 7, 7, 7, 7, 7, 7, 7, 7, 7, 7, 7, 7, 7, 7, 7, 7, 7, 7, 7, 7, 7, 7, 7, 7, 7, 7, 7, 7, 7, 7, 7, 7, 7, 7, 7, 7, 7, 7, 7, 7, 7, 7, 7, 7, 7, 7, 7, 7, 7, 7, 7, 7, 7, 7, 7, 7, 7, 7, 7, 7, 7, 7, 7, 7, 7, 7, 7, 7, 7, 7, 7, 7, 7, 7, 7, 7, 7, 7, 7, 7, 7, 7, 7, 7, 7, 7, 7, 7, 7, 7, 7, 7, 7, 7, 7, 7, 7, 7, 7, 7, 7, 7, 7, 7, 7, 7, 7, 7, 7, 7, 7, 7, 7, 7, 7, 7, 7, 7, 7, 7, 7, 7, 7, 7, 7, 7, 7, 7, 7, 7, 7, 7, 7, 7, 7, 7, 7, 7, 7, 7, 7, 7, 7, 7, 7, 7, 7, 7, 7, 7, 7, 7, 7, 7, 7, 7, 7, 7, 7, 7, 7, 7, 7, 7, 7, 7, 7, 7, 7, 7, 7, 7, 7, 7, 7, 7, 7, 7, 7, 7, 7, 7, 7, 7, 7, 7, 7, 7, 7, 7, 7, 7, 7, 7, 7, 7, 7, 7, 7, 7, 7, 7, 7, 7, 7, 7, 7, 7, 7, 7, 7, 7, 7, 7, 7, 7, 7, 7, 7, 7, 7, 7, 7, 7, 7, 7, 7, 7, 7, 7, 7, 7, 7, 7, 7, 7, 7, 7, 7, 7, 7, 7, 7, 7, 7, 7, 7, 7, 7, 7, 7, 7, 7, 7, 7, 7, 7, 7, 7, 7, 7, 7, 7, 7, 7, 7, 7, 7, 7, 7, 7, 7, 7, 7, 7, 7, 7, 7, 7, 7, 7, 7, 7, 7, 7, 7, 7, 7, 7, 7, 7, 7, 7, 7, 7, 7, 7, 7, 7, 7, 7, 7, 7, 7, 7, 7, 7, 7, 7, 7, 7, 7, 7, 7, 7, 7, 7, 7, 7, 7, 7, 7, 7, 7, 7, 7, 7, 7, 7, 7, 7, 7, 7, 7, 7, 7, 7, 7, 7, 7, 7, 7, 7, 7, 7, 7, 7, 7, 7, 7, 7, 7, 7, 7, 7, 7, 7, 7, 7, 7, 7, 7, 7, 7, 7, 7, 7, 7, 7, 7, 7, 7, 7, 7, 7, 7, 7, 7, 7, 7, 7, 7, 7, 7, 7, 7, 7, 7, 7, 7, 7, 7, 7, 7, 7, 7, 7, 7, 7, 7, 7, 7, 7, 7, 7, 7, 7, 7, 7, 7, 7, 7, 7, 7, 7]\n"
          ]
        }
      ],
      "source": [
        "nn_structure = [64, 30, 10]\n",
        "    \n",
        "# train the NN with the nn_structure and 3000 iterations\n",
        "\n",
        "W,b,cost=train_nn(nn_structure, X_train, y_v_train, iter_num=50, alpha=0.005)\n",
        "\n",
        "predict=predict_y(W,b,X_test,3)\n",
        "\n",
        "print(predict)\n"
      ]
    },
    {
      "cell_type": "markdown",
      "metadata": {
        "id": "J1Y2XLSQDCZG"
      },
      "source": [
        "### Plotting the learning curve\n"
      ]
    },
    {
      "cell_type": "code",
      "execution_count": null,
      "metadata": {
        "id": "XTEK6oDWDCZG",
        "colab": {
          "base_uri": "https://localhost:8080/",
          "height": 290
        },
        "outputId": "944c0d8e-23b7-47c2-b5cc-8223b12e7345"
      },
      "outputs": [
        {
          "output_type": "display_data",
          "data": {
            "text/plain": [
              "<Figure size 432x288 with 1 Axes>"
            ],
            "image/png": "[encoded data removed]"
          },
          "metadata": {
            "needs_background": "light"
          }
        }
      ],
      "source": [
        "# plot the avg_cost_func \n",
        "\n",
        "# x label: \"Iteration number\"\n",
        "\n",
        "# y label: \"Average J\"\n",
        "\n",
        "plt.plot(cost)\n",
        "plt.ylabel('Average J')\n",
        "plt.xlabel('Iteration number')\n",
        "\n",
        "plt.show()"
      ]
    },
    {
      "cell_type": "markdown",
      "metadata": {
        "id": "38yNUMacDCZG"
      },
      "source": [
        "## 5) Assessing accuracy\n",
        "Next we determine what percentage the neural network correctly predicted the handwritten digit correctly on the test set"
      ]
    },
    {
      "cell_type": "code",
      "execution_count": null,
      "metadata": {
        "id": "QZRqPq6ZDCZG",
        "colab": {
          "base_uri": "https://localhost:8080/"
        },
        "outputId": "29175b21-ffa9-4681-a81d-1571b603ff8e"
      },
      "outputs": [
        {
          "output_type": "stream",
          "name": "stdout",
          "text": [
            "Prediction accuracy is 9.735744089012517%\n"
          ]
        }
      ],
      "source": [
        "print('Prediction accuracy is {}%'.format(accuracy_score(y_test, predict) * 100))"
      ]
    },
    {
      "cell_type": "markdown",
      "source": [
        "#RELU\n"
      ],
      "metadata": {
        "id": "NapElMF0kKIL"
      }
    },
    {
      "cell_type": "code",
      "source": [
        "def f(z):\n",
        "  f_z=[]\n",
        "  for i in z:\n",
        "\n",
        "    if(i>0):\n",
        "      f_z.append(i)\n",
        "\n",
        "    else:\n",
        "      f_z.append(0)\n",
        "\n",
        "\n",
        "  return np.array(f_z).reshape((z.shape[0],1))\n",
        "\n",
        "\n",
        "def f_deriv(z):\n",
        "  data = [1 if value>0 else 0 for value in z]\n",
        "\n",
        "  f_z=[]\n",
        "  for i in z:\n",
        "    if(i==0):\n",
        "      f_z.append(0)\n",
        "    else:\n",
        "      f_z.append(1)\n",
        "  return np.array(f_z).reshape(z.shape[0],1)\n",
        "\n"
      ],
      "metadata": {
        "id": "FURacV-vkJ2M"
      },
      "execution_count": null,
      "outputs": []
    }
  ],
  "metadata": {
    "kernelspec": {
      "display_name": "Python 3 (ipykernel)",
      "language": "python",
      "name": "python3"
    },
    "language_info": {
      "codemirror_mode": {
        "name": "ipython",
        "version": 3
      },
      "file_extension": ".py",
      "mimetype": "text/x-python",
      "name": "python",
      "nbconvert_exporter": "python",
      "pygments_lexer": "ipython3",
      "version": "3.9.7"
    },
    "colab": {
      "name": "Neural Network.ipynb",
      "provenance": [],
      "collapsed_sections": [],
      "include_colab_link": true
    }
  },
  "nbformat": 4,
  "nbformat_minor": 0
}